{
 "cells": [
  {
   "cell_type": "code",
   "execution_count": 17,
   "id": "b2465795",
   "metadata": {},
   "outputs": [
    {
     "name": "stdout",
     "output_type": "stream",
     "text": [
      "[]\n",
      "negative\n"
     ]
    },
    {
     "name": "stderr",
     "output_type": "stream",
     "text": [
      "C:\\Users\\hp\\anaconda3\\lib\\site-packages\\sklearn\\base.py:450: UserWarning: X does not have valid feature names, but StandardScaler was fitted with feature names\n",
      "  warnings.warn(\n"
     ]
    }
   ],
   "source": [
    "testa=[52,1,0,125,212,0,1,168,0,1,2,2,3]\n",
    "def predict(heart_test):\n",
    " import pandas as pd\n",
    " import numpy as np\n",
    " import matplotlib.pyplot as plt\n",
    " hel=heart_test[-13:0]\n",
    " print(hel)\n",
    " from sklearn.preprocessing import StandardScaler\n",
    " from sklearn.svm import SVC\n",
    " from mlxtend.classifier import StackingCVClassifier\n",
    " data=pd.read_csv('https://raw.githubusercontent.com/Gauravdev456/data-for-heart-disease/main/heart.csv?token=GHSAT0AAAAAAB747NZDF2KW3RF6WWC3PFZQZANLWTA')\n",
    " x_test=pd.read_csv('https://raw.githubusercontent.com/Gauravdev456/data-for-heart-disease/main/test.csv?token=GHSAT0AAAAAAB747NZCWWHHUQO3PA6GIEJUZANLV4Q')\n",
    " y=data['target']\n",
    " x=data.drop('target',axis=1)\n",
    " my_array=np.array(heart_test)\n",
    " newa=my_array.reshape(1,-1)\n",
    " scaler=StandardScaler()\n",
    " x_train=scaler.fit_transform(x)\n",
    " x_test=scaler.transform(newa)\n",
    "\n",
    " m7='Support Vector Classifier'\n",
    " svc=SVC(kernel='rbf',C=2)\n",
    " svc.fit(x_train,y)\n",
    " svc_predicted=svc.predict(x_test)\n",
    " a=str(svc_predicted)\n",
    " if(a=='1'):\n",
    "     return('positive')\n",
    " else:\n",
    "     return('negative')\n",
    " \n",
    " \n",
    "print(predict(testa))\n",
    "\n"
   ]
  },
  {
   "cell_type": "code",
   "execution_count": null,
   "id": "a8670fe3",
   "metadata": {
    "scrolled": true
   },
   "outputs": [],
   "source": []
  },
  {
   "cell_type": "code",
   "execution_count": 13,
   "id": "2101f742",
   "metadata": {},
   "outputs": [],
   "source": []
  },
  {
   "cell_type": "code",
   "execution_count": 22,
   "id": "bf0007f1",
   "metadata": {},
   "outputs": [],
   "source": []
  },
  {
   "cell_type": "code",
   "execution_count": 23,
   "id": "258faea4",
   "metadata": {},
   "outputs": [
    {
     "name": "stdout",
     "output_type": "stream",
     "text": [
      "[0]\n"
     ]
    }
   ],
   "source": []
  },
  {
   "cell_type": "code",
   "execution_count": null,
   "id": "9fd12093",
   "metadata": {},
   "outputs": [],
   "source": []
  }
 ],
 "metadata": {
  "kernelspec": {
   "display_name": "Python 3 (ipykernel)",
   "language": "python",
   "name": "python3"
  },
  "language_info": {
   "codemirror_mode": {
    "name": "ipython",
    "version": 3
   },
   "file_extension": ".py",
   "mimetype": "text/x-python",
   "name": "python",
   "nbconvert_exporter": "python",
   "pygments_lexer": "ipython3",
   "version": "3.9.13"
  }
 },
 "nbformat": 4,
 "nbformat_minor": 5
}
